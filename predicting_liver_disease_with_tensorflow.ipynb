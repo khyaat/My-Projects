{
  "metadata": {
    "kernelspec": {
      "language": "python",
      "display_name": "Python 3",
      "name": "python3"
    },
    "language_info": {
      "name": "python",
      "version": "3.7.6",
      "mimetype": "text/x-python",
      "codemirror_mode": {
        "name": "ipython",
        "version": 3
      },
      "pygments_lexer": "ipython3",
      "nbconvert_exporter": "python",
      "file_extension": ".py"
    },
    "colab": {
      "provenance": []
    }
  },
  "nbformat_minor": 0,
  "nbformat": 4,
  "cells": [
    {
      "cell_type": "markdown",
      "source": [
        "# Getting Started"
      ],
      "metadata": {
        "id": "EAyd_R3zh0ld"
      }
    },
    {
      "cell_type": "code",
      "source": [
        "from google.colab import drive\n",
        "drive.mount('/content/drive')"
      ],
      "metadata": {
        "colab": {
          "base_uri": "https://localhost:8080/"
        },
        "id": "vDfApsK5iJFO",
        "outputId": "3457b0df-f48a-4c68-bac1-176209b04979"
      },
      "execution_count": null,
      "outputs": [
        {
          "output_type": "stream",
          "name": "stdout",
          "text": [
            "Mounted at /content/drive\n"
          ]
        }
      ]
    },
    {
      "cell_type": "code",
      "source": [
        "import numpy as np\n",
        "import pandas as pd\n",
        "import plotly.express as px\n",
        "import seaborn as sns\n",
        "import matplotlib.pyplot as plt\n",
        "from sklearn.preprocessing import MinMaxScaler\n",
        "from sklearn.model_selection import train_test_split\n",
        "\n",
        "import tensorflow as tf"
      ],
      "metadata": {
        "_uuid": "d629ff2d2480ee46fbb7e2d37f6b5fab8052498a",
        "_cell_guid": "79c7e3d0-c299-4dcb-8224-4455121ee9b0",
        "trusted": true,
        "id": "Dh9srGDih0le"
      },
      "execution_count": null,
      "outputs": []
    },
    {
      "cell_type": "code",
      "source": [
        "data = pd.read_csv('/content/drive/MyDrive/indian_liver_patient.csv')"
      ],
      "metadata": {
        "trusted": true,
        "id": "ieLlmdBlh0lf"
      },
      "execution_count": null,
      "outputs": []
    },
    {
      "cell_type": "code",
      "source": [
        "data"
      ],
      "metadata": {
        "trusted": true,
        "colab": {
          "base_uri": "https://localhost:8080/",
          "height": 488
        },
        "id": "neuaIdcwh0lf",
        "outputId": "6ef958e4-f1a6-49a5-c624-126d8c2ca735"
      },
      "execution_count": null,
      "outputs": [
        {
          "output_type": "execute_result",
          "data": {
            "text/plain": [
              "     Age  Gender  Total_Bilirubin  Direct_Bilirubin  Alkaline_Phosphotase  \\\n",
              "0     65  Female              0.7               0.1                   187   \n",
              "1     62    Male             10.9               5.5                   699   \n",
              "2     62    Male              7.3               4.1                   490   \n",
              "3     58    Male              1.0               0.4                   182   \n",
              "4     72    Male              3.9               2.0                   195   \n",
              "..   ...     ...              ...               ...                   ...   \n",
              "578   60    Male              0.5               0.1                   500   \n",
              "579   40    Male              0.6               0.1                    98   \n",
              "580   52    Male              0.8               0.2                   245   \n",
              "581   31    Male              1.3               0.5                   184   \n",
              "582   38    Male              1.0               0.3                   216   \n",
              "\n",
              "     Alamine_Aminotransferase  Aspartate_Aminotransferase  Total_Protiens  \\\n",
              "0                          16                          18             6.8   \n",
              "1                          64                         100             7.5   \n",
              "2                          60                          68             7.0   \n",
              "3                          14                          20             6.8   \n",
              "4                          27                          59             7.3   \n",
              "..                        ...                         ...             ...   \n",
              "578                        20                          34             5.9   \n",
              "579                        35                          31             6.0   \n",
              "580                        48                          49             6.4   \n",
              "581                        29                          32             6.8   \n",
              "582                        21                          24             7.3   \n",
              "\n",
              "     Albumin  Albumin_and_Globulin_Ratio  Dataset  \n",
              "0        3.3                        0.90        1  \n",
              "1        3.2                        0.74        1  \n",
              "2        3.3                        0.89        1  \n",
              "3        3.4                        1.00        1  \n",
              "4        2.4                        0.40        1  \n",
              "..       ...                         ...      ...  \n",
              "578      1.6                        0.37        2  \n",
              "579      3.2                        1.10        1  \n",
              "580      3.2                        1.00        1  \n",
              "581      3.4                        1.00        1  \n",
              "582      4.4                        1.50        2  \n",
              "\n",
              "[583 rows x 11 columns]"
            ],
            "text/html": [
              "\n",
              "  <div id=\"df-6dbfbd0b-db8e-4c48-a3f9-b4dc6ef70b45\">\n",
              "    <div class=\"colab-df-container\">\n",
              "      <div>\n",
              "<style scoped>\n",
              "    .dataframe tbody tr th:only-of-type {\n",
              "        vertical-align: middle;\n",
              "    }\n",
              "\n",
              "    .dataframe tbody tr th {\n",
              "        vertical-align: top;\n",
              "    }\n",
              "\n",
              "    .dataframe thead th {\n",
              "        text-align: right;\n",
              "    }\n",
              "</style>\n",
              "<table border=\"1\" class=\"dataframe\">\n",
              "  <thead>\n",
              "    <tr style=\"text-align: right;\">\n",
              "      <th></th>\n",
              "      <th>Age</th>\n",
              "      <th>Gender</th>\n",
              "      <th>Total_Bilirubin</th>\n",
              "      <th>Direct_Bilirubin</th>\n",
              "      <th>Alkaline_Phosphotase</th>\n",
              "      <th>Alamine_Aminotransferase</th>\n",
              "      <th>Aspartate_Aminotransferase</th>\n",
              "      <th>Total_Protiens</th>\n",
              "      <th>Albumin</th>\n",
              "      <th>Albumin_and_Globulin_Ratio</th>\n",
              "      <th>Dataset</th>\n",
              "    </tr>\n",
              "  </thead>\n",
              "  <tbody>\n",
              "    <tr>\n",
              "      <th>0</th>\n",
              "      <td>65</td>\n",
              "      <td>Female</td>\n",
              "      <td>0.7</td>\n",
              "      <td>0.1</td>\n",
              "      <td>187</td>\n",
              "      <td>16</td>\n",
              "      <td>18</td>\n",
              "      <td>6.8</td>\n",
              "      <td>3.3</td>\n",
              "      <td>0.90</td>\n",
              "      <td>1</td>\n",
              "    </tr>\n",
              "    <tr>\n",
              "      <th>1</th>\n",
              "      <td>62</td>\n",
              "      <td>Male</td>\n",
              "      <td>10.9</td>\n",
              "      <td>5.5</td>\n",
              "      <td>699</td>\n",
              "      <td>64</td>\n",
              "      <td>100</td>\n",
              "      <td>7.5</td>\n",
              "      <td>3.2</td>\n",
              "      <td>0.74</td>\n",
              "      <td>1</td>\n",
              "    </tr>\n",
              "    <tr>\n",
              "      <th>2</th>\n",
              "      <td>62</td>\n",
              "      <td>Male</td>\n",
              "      <td>7.3</td>\n",
              "      <td>4.1</td>\n",
              "      <td>490</td>\n",
              "      <td>60</td>\n",
              "      <td>68</td>\n",
              "      <td>7.0</td>\n",
              "      <td>3.3</td>\n",
              "      <td>0.89</td>\n",
              "      <td>1</td>\n",
              "    </tr>\n",
              "    <tr>\n",
              "      <th>3</th>\n",
              "      <td>58</td>\n",
              "      <td>Male</td>\n",
              "      <td>1.0</td>\n",
              "      <td>0.4</td>\n",
              "      <td>182</td>\n",
              "      <td>14</td>\n",
              "      <td>20</td>\n",
              "      <td>6.8</td>\n",
              "      <td>3.4</td>\n",
              "      <td>1.00</td>\n",
              "      <td>1</td>\n",
              "    </tr>\n",
              "    <tr>\n",
              "      <th>4</th>\n",
              "      <td>72</td>\n",
              "      <td>Male</td>\n",
              "      <td>3.9</td>\n",
              "      <td>2.0</td>\n",
              "      <td>195</td>\n",
              "      <td>27</td>\n",
              "      <td>59</td>\n",
              "      <td>7.3</td>\n",
              "      <td>2.4</td>\n",
              "      <td>0.40</td>\n",
              "      <td>1</td>\n",
              "    </tr>\n",
              "    <tr>\n",
              "      <th>...</th>\n",
              "      <td>...</td>\n",
              "      <td>...</td>\n",
              "      <td>...</td>\n",
              "      <td>...</td>\n",
              "      <td>...</td>\n",
              "      <td>...</td>\n",
              "      <td>...</td>\n",
              "      <td>...</td>\n",
              "      <td>...</td>\n",
              "      <td>...</td>\n",
              "      <td>...</td>\n",
              "    </tr>\n",
              "    <tr>\n",
              "      <th>578</th>\n",
              "      <td>60</td>\n",
              "      <td>Male</td>\n",
              "      <td>0.5</td>\n",
              "      <td>0.1</td>\n",
              "      <td>500</td>\n",
              "      <td>20</td>\n",
              "      <td>34</td>\n",
              "      <td>5.9</td>\n",
              "      <td>1.6</td>\n",
              "      <td>0.37</td>\n",
              "      <td>2</td>\n",
              "    </tr>\n",
              "    <tr>\n",
              "      <th>579</th>\n",
              "      <td>40</td>\n",
              "      <td>Male</td>\n",
              "      <td>0.6</td>\n",
              "      <td>0.1</td>\n",
              "      <td>98</td>\n",
              "      <td>35</td>\n",
              "      <td>31</td>\n",
              "      <td>6.0</td>\n",
              "      <td>3.2</td>\n",
              "      <td>1.10</td>\n",
              "      <td>1</td>\n",
              "    </tr>\n",
              "    <tr>\n",
              "      <th>580</th>\n",
              "      <td>52</td>\n",
              "      <td>Male</td>\n",
              "      <td>0.8</td>\n",
              "      <td>0.2</td>\n",
              "      <td>245</td>\n",
              "      <td>48</td>\n",
              "      <td>49</td>\n",
              "      <td>6.4</td>\n",
              "      <td>3.2</td>\n",
              "      <td>1.00</td>\n",
              "      <td>1</td>\n",
              "    </tr>\n",
              "    <tr>\n",
              "      <th>581</th>\n",
              "      <td>31</td>\n",
              "      <td>Male</td>\n",
              "      <td>1.3</td>\n",
              "      <td>0.5</td>\n",
              "      <td>184</td>\n",
              "      <td>29</td>\n",
              "      <td>32</td>\n",
              "      <td>6.8</td>\n",
              "      <td>3.4</td>\n",
              "      <td>1.00</td>\n",
              "      <td>1</td>\n",
              "    </tr>\n",
              "    <tr>\n",
              "      <th>582</th>\n",
              "      <td>38</td>\n",
              "      <td>Male</td>\n",
              "      <td>1.0</td>\n",
              "      <td>0.3</td>\n",
              "      <td>216</td>\n",
              "      <td>21</td>\n",
              "      <td>24</td>\n",
              "      <td>7.3</td>\n",
              "      <td>4.4</td>\n",
              "      <td>1.50</td>\n",
              "      <td>2</td>\n",
              "    </tr>\n",
              "  </tbody>\n",
              "</table>\n",
              "<p>583 rows × 11 columns</p>\n",
              "</div>\n",
              "      <button class=\"colab-df-convert\" onclick=\"convertToInteractive('df-6dbfbd0b-db8e-4c48-a3f9-b4dc6ef70b45')\"\n",
              "              title=\"Convert this dataframe to an interactive table.\"\n",
              "              style=\"display:none;\">\n",
              "        \n",
              "  <svg xmlns=\"http://www.w3.org/2000/svg\" height=\"24px\"viewBox=\"0 0 24 24\"\n",
              "       width=\"24px\">\n",
              "    <path d=\"M0 0h24v24H0V0z\" fill=\"none\"/>\n",
              "    <path d=\"M18.56 5.44l.94 2.06.94-2.06 2.06-.94-2.06-.94-.94-2.06-.94 2.06-2.06.94zm-11 1L8.5 8.5l.94-2.06 2.06-.94-2.06-.94L8.5 2.5l-.94 2.06-2.06.94zm10 10l.94 2.06.94-2.06 2.06-.94-2.06-.94-.94-2.06-.94 2.06-2.06.94z\"/><path d=\"M17.41 7.96l-1.37-1.37c-.4-.4-.92-.59-1.43-.59-.52 0-1.04.2-1.43.59L10.3 9.45l-7.72 7.72c-.78.78-.78 2.05 0 2.83L4 21.41c.39.39.9.59 1.41.59.51 0 1.02-.2 1.41-.59l7.78-7.78 2.81-2.81c.8-.78.8-2.07 0-2.86zM5.41 20L4 18.59l7.72-7.72 1.47 1.35L5.41 20z\"/>\n",
              "  </svg>\n",
              "      </button>\n",
              "      \n",
              "  <style>\n",
              "    .colab-df-container {\n",
              "      display:flex;\n",
              "      flex-wrap:wrap;\n",
              "      gap: 12px;\n",
              "    }\n",
              "\n",
              "    .colab-df-convert {\n",
              "      background-color: #E8F0FE;\n",
              "      border: none;\n",
              "      border-radius: 50%;\n",
              "      cursor: pointer;\n",
              "      display: none;\n",
              "      fill: #1967D2;\n",
              "      height: 32px;\n",
              "      padding: 0 0 0 0;\n",
              "      width: 32px;\n",
              "    }\n",
              "\n",
              "    .colab-df-convert:hover {\n",
              "      background-color: #E2EBFA;\n",
              "      box-shadow: 0px 1px 2px rgba(60, 64, 67, 0.3), 0px 1px 3px 1px rgba(60, 64, 67, 0.15);\n",
              "      fill: #174EA6;\n",
              "    }\n",
              "\n",
              "    [theme=dark] .colab-df-convert {\n",
              "      background-color: #3B4455;\n",
              "      fill: #D2E3FC;\n",
              "    }\n",
              "\n",
              "    [theme=dark] .colab-df-convert:hover {\n",
              "      background-color: #434B5C;\n",
              "      box-shadow: 0px 1px 3px 1px rgba(0, 0, 0, 0.15);\n",
              "      filter: drop-shadow(0px 1px 2px rgba(0, 0, 0, 0.3));\n",
              "      fill: #FFFFFF;\n",
              "    }\n",
              "  </style>\n",
              "\n",
              "      <script>\n",
              "        const buttonEl =\n",
              "          document.querySelector('#df-6dbfbd0b-db8e-4c48-a3f9-b4dc6ef70b45 button.colab-df-convert');\n",
              "        buttonEl.style.display =\n",
              "          google.colab.kernel.accessAllowed ? 'block' : 'none';\n",
              "\n",
              "        async function convertToInteractive(key) {\n",
              "          const element = document.querySelector('#df-6dbfbd0b-db8e-4c48-a3f9-b4dc6ef70b45');\n",
              "          const dataTable =\n",
              "            await google.colab.kernel.invokeFunction('convertToInteractive',\n",
              "                                                     [key], {});\n",
              "          if (!dataTable) return;\n",
              "\n",
              "          const docLinkHtml = 'Like what you see? Visit the ' +\n",
              "            '<a target=\"_blank\" href=https://colab.research.google.com/notebooks/data_table.ipynb>data table notebook</a>'\n",
              "            + ' to learn more about interactive tables.';\n",
              "          element.innerHTML = '';\n",
              "          dataTable['output_type'] = 'display_data';\n",
              "          await google.colab.output.renderOutput(dataTable, element);\n",
              "          const docLink = document.createElement('div');\n",
              "          docLink.innerHTML = docLinkHtml;\n",
              "          element.appendChild(docLink);\n",
              "        }\n",
              "      </script>\n",
              "    </div>\n",
              "  </div>\n",
              "  "
            ]
          },
          "metadata": {},
          "execution_count": 5
        }
      ]
    },
    {
      "cell_type": "code",
      "source": [
        "data.info()"
      ],
      "metadata": {
        "trusted": true,
        "colab": {
          "base_uri": "https://localhost:8080/"
        },
        "id": "koFuHgCah0lg",
        "outputId": "0ef9d928-1c2d-4a48-f98c-2f68a4e7c6ef"
      },
      "execution_count": null,
      "outputs": [
        {
          "output_type": "stream",
          "name": "stdout",
          "text": [
            "<class 'pandas.core.frame.DataFrame'>\n",
            "RangeIndex: 583 entries, 0 to 582\n",
            "Data columns (total 11 columns):\n",
            " #   Column                      Non-Null Count  Dtype  \n",
            "---  ------                      --------------  -----  \n",
            " 0   Age                         583 non-null    int64  \n",
            " 1   Gender                      583 non-null    object \n",
            " 2   Total_Bilirubin             583 non-null    float64\n",
            " 3   Direct_Bilirubin            583 non-null    float64\n",
            " 4   Alkaline_Phosphotase        583 non-null    int64  \n",
            " 5   Alamine_Aminotransferase    583 non-null    int64  \n",
            " 6   Aspartate_Aminotransferase  583 non-null    int64  \n",
            " 7   Total_Protiens              583 non-null    float64\n",
            " 8   Albumin                     583 non-null    float64\n",
            " 9   Albumin_and_Globulin_Ratio  579 non-null    float64\n",
            " 10  Dataset                     583 non-null    int64  \n",
            "dtypes: float64(5), int64(5), object(1)\n",
            "memory usage: 50.2+ KB\n"
          ]
        }
      ]
    },
    {
      "cell_type": "markdown",
      "source": [
        "# Preprocessing"
      ],
      "metadata": {
        "id": "-AZ5YyMrh0lg"
      }
    },
    {
      "cell_type": "markdown",
      "source": [
        "## Missing Values"
      ],
      "metadata": {
        "id": "SmfV_zUYh0lg"
      }
    },
    {
      "cell_type": "code",
      "source": [
        "data.isna().sum()"
      ],
      "metadata": {
        "trusted": true,
        "colab": {
          "base_uri": "https://localhost:8080/"
        },
        "id": "0sQJfvZ2h0lh",
        "outputId": "9c92ed09-2007-4dc4-a89e-3b9504afea1f"
      },
      "execution_count": null,
      "outputs": [
        {
          "output_type": "execute_result",
          "data": {
            "text/plain": [
              "Age                           0\n",
              "Gender                        0\n",
              "Total_Bilirubin               0\n",
              "Direct_Bilirubin              0\n",
              "Alkaline_Phosphotase          0\n",
              "Alamine_Aminotransferase      0\n",
              "Aspartate_Aminotransferase    0\n",
              "Total_Protiens                0\n",
              "Albumin                       0\n",
              "Albumin_and_Globulin_Ratio    4\n",
              "Dataset                       0\n",
              "dtype: int64"
            ]
          },
          "metadata": {},
          "execution_count": 7
        }
      ]
    },
    {
      "cell_type": "code",
      "source": [
        "data['Albumin_and_Globulin_Ratio'] = data['Albumin_and_Globulin_Ratio'].fillna(data['Albumin_and_Globulin_Ratio'].mean())"
      ],
      "metadata": {
        "trusted": true,
        "id": "lm_pTxvch0lh"
      },
      "execution_count": null,
      "outputs": []
    },
    {
      "cell_type": "markdown",
      "source": [
        "## Encoding"
      ],
      "metadata": {
        "id": "eNjoL4lsh0lh"
      }
    },
    {
      "cell_type": "code",
      "source": [
        "def binary_encode(df, column, positive_value):\n",
        "    df = df.copy()\n",
        "    df[column] = df[column].apply(lambda x: 1 if x == positive_value else 0)\n",
        "    return df"
      ],
      "metadata": {
        "trusted": true,
        "id": "01HZ5ryKh0li"
      },
      "execution_count": null,
      "outputs": []
    },
    {
      "cell_type": "code",
      "source": [
        "data = binary_encode(data, 'Gender', 'Male')"
      ],
      "metadata": {
        "trusted": true,
        "id": "xQMe1X2mh0li"
      },
      "execution_count": null,
      "outputs": []
    },
    {
      "cell_type": "markdown",
      "source": [
        "Let's change the labels to 0, 1 instead of 1, 2"
      ],
      "metadata": {
        "id": "fZtutatWh0li"
      }
    },
    {
      "cell_type": "code",
      "source": [
        "data = binary_encode(data, 'Dataset', 1)"
      ],
      "metadata": {
        "trusted": true,
        "id": "9ykUzONah0li"
      },
      "execution_count": null,
      "outputs": []
    },
    {
      "cell_type": "markdown",
      "source": [
        "## Splitting and Scaling"
      ],
      "metadata": {
        "id": "Jy77aAJeh0lj"
      }
    },
    {
      "cell_type": "code",
      "source": [
        "data"
      ],
      "metadata": {
        "trusted": true,
        "colab": {
          "base_uri": "https://localhost:8080/",
          "height": 488
        },
        "id": "rHuGAgNgh0lj",
        "outputId": "8d3cbb7b-5c25-4bb7-df19-e08f1ab77ae8"
      },
      "execution_count": null,
      "outputs": [
        {
          "output_type": "execute_result",
          "data": {
            "text/plain": [
              "     Age  Gender  Total_Bilirubin  Direct_Bilirubin  Alkaline_Phosphotase  \\\n",
              "0     65       0              0.7               0.1                   187   \n",
              "1     62       1             10.9               5.5                   699   \n",
              "2     62       1              7.3               4.1                   490   \n",
              "3     58       1              1.0               0.4                   182   \n",
              "4     72       1              3.9               2.0                   195   \n",
              "..   ...     ...              ...               ...                   ...   \n",
              "578   60       1              0.5               0.1                   500   \n",
              "579   40       1              0.6               0.1                    98   \n",
              "580   52       1              0.8               0.2                   245   \n",
              "581   31       1              1.3               0.5                   184   \n",
              "582   38       1              1.0               0.3                   216   \n",
              "\n",
              "     Alamine_Aminotransferase  Aspartate_Aminotransferase  Total_Protiens  \\\n",
              "0                          16                          18             6.8   \n",
              "1                          64                         100             7.5   \n",
              "2                          60                          68             7.0   \n",
              "3                          14                          20             6.8   \n",
              "4                          27                          59             7.3   \n",
              "..                        ...                         ...             ...   \n",
              "578                        20                          34             5.9   \n",
              "579                        35                          31             6.0   \n",
              "580                        48                          49             6.4   \n",
              "581                        29                          32             6.8   \n",
              "582                        21                          24             7.3   \n",
              "\n",
              "     Albumin  Albumin_and_Globulin_Ratio  Dataset  \n",
              "0        3.3                        0.90        1  \n",
              "1        3.2                        0.74        1  \n",
              "2        3.3                        0.89        1  \n",
              "3        3.4                        1.00        1  \n",
              "4        2.4                        0.40        1  \n",
              "..       ...                         ...      ...  \n",
              "578      1.6                        0.37        0  \n",
              "579      3.2                        1.10        1  \n",
              "580      3.2                        1.00        1  \n",
              "581      3.4                        1.00        1  \n",
              "582      4.4                        1.50        0  \n",
              "\n",
              "[583 rows x 11 columns]"
            ],
            "text/html": [
              "\n",
              "  <div id=\"df-01c6bb24-0c19-4a35-93a1-7fc4f69af68d\">\n",
              "    <div class=\"colab-df-container\">\n",
              "      <div>\n",
              "<style scoped>\n",
              "    .dataframe tbody tr th:only-of-type {\n",
              "        vertical-align: middle;\n",
              "    }\n",
              "\n",
              "    .dataframe tbody tr th {\n",
              "        vertical-align: top;\n",
              "    }\n",
              "\n",
              "    .dataframe thead th {\n",
              "        text-align: right;\n",
              "    }\n",
              "</style>\n",
              "<table border=\"1\" class=\"dataframe\">\n",
              "  <thead>\n",
              "    <tr style=\"text-align: right;\">\n",
              "      <th></th>\n",
              "      <th>Age</th>\n",
              "      <th>Gender</th>\n",
              "      <th>Total_Bilirubin</th>\n",
              "      <th>Direct_Bilirubin</th>\n",
              "      <th>Alkaline_Phosphotase</th>\n",
              "      <th>Alamine_Aminotransferase</th>\n",
              "      <th>Aspartate_Aminotransferase</th>\n",
              "      <th>Total_Protiens</th>\n",
              "      <th>Albumin</th>\n",
              "      <th>Albumin_and_Globulin_Ratio</th>\n",
              "      <th>Dataset</th>\n",
              "    </tr>\n",
              "  </thead>\n",
              "  <tbody>\n",
              "    <tr>\n",
              "      <th>0</th>\n",
              "      <td>65</td>\n",
              "      <td>0</td>\n",
              "      <td>0.7</td>\n",
              "      <td>0.1</td>\n",
              "      <td>187</td>\n",
              "      <td>16</td>\n",
              "      <td>18</td>\n",
              "      <td>6.8</td>\n",
              "      <td>3.3</td>\n",
              "      <td>0.90</td>\n",
              "      <td>1</td>\n",
              "    </tr>\n",
              "    <tr>\n",
              "      <th>1</th>\n",
              "      <td>62</td>\n",
              "      <td>1</td>\n",
              "      <td>10.9</td>\n",
              "      <td>5.5</td>\n",
              "      <td>699</td>\n",
              "      <td>64</td>\n",
              "      <td>100</td>\n",
              "      <td>7.5</td>\n",
              "      <td>3.2</td>\n",
              "      <td>0.74</td>\n",
              "      <td>1</td>\n",
              "    </tr>\n",
              "    <tr>\n",
              "      <th>2</th>\n",
              "      <td>62</td>\n",
              "      <td>1</td>\n",
              "      <td>7.3</td>\n",
              "      <td>4.1</td>\n",
              "      <td>490</td>\n",
              "      <td>60</td>\n",
              "      <td>68</td>\n",
              "      <td>7.0</td>\n",
              "      <td>3.3</td>\n",
              "      <td>0.89</td>\n",
              "      <td>1</td>\n",
              "    </tr>\n",
              "    <tr>\n",
              "      <th>3</th>\n",
              "      <td>58</td>\n",
              "      <td>1</td>\n",
              "      <td>1.0</td>\n",
              "      <td>0.4</td>\n",
              "      <td>182</td>\n",
              "      <td>14</td>\n",
              "      <td>20</td>\n",
              "      <td>6.8</td>\n",
              "      <td>3.4</td>\n",
              "      <td>1.00</td>\n",
              "      <td>1</td>\n",
              "    </tr>\n",
              "    <tr>\n",
              "      <th>4</th>\n",
              "      <td>72</td>\n",
              "      <td>1</td>\n",
              "      <td>3.9</td>\n",
              "      <td>2.0</td>\n",
              "      <td>195</td>\n",
              "      <td>27</td>\n",
              "      <td>59</td>\n",
              "      <td>7.3</td>\n",
              "      <td>2.4</td>\n",
              "      <td>0.40</td>\n",
              "      <td>1</td>\n",
              "    </tr>\n",
              "    <tr>\n",
              "      <th>...</th>\n",
              "      <td>...</td>\n",
              "      <td>...</td>\n",
              "      <td>...</td>\n",
              "      <td>...</td>\n",
              "      <td>...</td>\n",
              "      <td>...</td>\n",
              "      <td>...</td>\n",
              "      <td>...</td>\n",
              "      <td>...</td>\n",
              "      <td>...</td>\n",
              "      <td>...</td>\n",
              "    </tr>\n",
              "    <tr>\n",
              "      <th>578</th>\n",
              "      <td>60</td>\n",
              "      <td>1</td>\n",
              "      <td>0.5</td>\n",
              "      <td>0.1</td>\n",
              "      <td>500</td>\n",
              "      <td>20</td>\n",
              "      <td>34</td>\n",
              "      <td>5.9</td>\n",
              "      <td>1.6</td>\n",
              "      <td>0.37</td>\n",
              "      <td>0</td>\n",
              "    </tr>\n",
              "    <tr>\n",
              "      <th>579</th>\n",
              "      <td>40</td>\n",
              "      <td>1</td>\n",
              "      <td>0.6</td>\n",
              "      <td>0.1</td>\n",
              "      <td>98</td>\n",
              "      <td>35</td>\n",
              "      <td>31</td>\n",
              "      <td>6.0</td>\n",
              "      <td>3.2</td>\n",
              "      <td>1.10</td>\n",
              "      <td>1</td>\n",
              "    </tr>\n",
              "    <tr>\n",
              "      <th>580</th>\n",
              "      <td>52</td>\n",
              "      <td>1</td>\n",
              "      <td>0.8</td>\n",
              "      <td>0.2</td>\n",
              "      <td>245</td>\n",
              "      <td>48</td>\n",
              "      <td>49</td>\n",
              "      <td>6.4</td>\n",
              "      <td>3.2</td>\n",
              "      <td>1.00</td>\n",
              "      <td>1</td>\n",
              "    </tr>\n",
              "    <tr>\n",
              "      <th>581</th>\n",
              "      <td>31</td>\n",
              "      <td>1</td>\n",
              "      <td>1.3</td>\n",
              "      <td>0.5</td>\n",
              "      <td>184</td>\n",
              "      <td>29</td>\n",
              "      <td>32</td>\n",
              "      <td>6.8</td>\n",
              "      <td>3.4</td>\n",
              "      <td>1.00</td>\n",
              "      <td>1</td>\n",
              "    </tr>\n",
              "    <tr>\n",
              "      <th>582</th>\n",
              "      <td>38</td>\n",
              "      <td>1</td>\n",
              "      <td>1.0</td>\n",
              "      <td>0.3</td>\n",
              "      <td>216</td>\n",
              "      <td>21</td>\n",
              "      <td>24</td>\n",
              "      <td>7.3</td>\n",
              "      <td>4.4</td>\n",
              "      <td>1.50</td>\n",
              "      <td>0</td>\n",
              "    </tr>\n",
              "  </tbody>\n",
              "</table>\n",
              "<p>583 rows × 11 columns</p>\n",
              "</div>\n",
              "      <button class=\"colab-df-convert\" onclick=\"convertToInteractive('df-01c6bb24-0c19-4a35-93a1-7fc4f69af68d')\"\n",
              "              title=\"Convert this dataframe to an interactive table.\"\n",
              "              style=\"display:none;\">\n",
              "        \n",
              "  <svg xmlns=\"http://www.w3.org/2000/svg\" height=\"24px\"viewBox=\"0 0 24 24\"\n",
              "       width=\"24px\">\n",
              "    <path d=\"M0 0h24v24H0V0z\" fill=\"none\"/>\n",
              "    <path d=\"M18.56 5.44l.94 2.06.94-2.06 2.06-.94-2.06-.94-.94-2.06-.94 2.06-2.06.94zm-11 1L8.5 8.5l.94-2.06 2.06-.94-2.06-.94L8.5 2.5l-.94 2.06-2.06.94zm10 10l.94 2.06.94-2.06 2.06-.94-2.06-.94-.94-2.06-.94 2.06-2.06.94z\"/><path d=\"M17.41 7.96l-1.37-1.37c-.4-.4-.92-.59-1.43-.59-.52 0-1.04.2-1.43.59L10.3 9.45l-7.72 7.72c-.78.78-.78 2.05 0 2.83L4 21.41c.39.39.9.59 1.41.59.51 0 1.02-.2 1.41-.59l7.78-7.78 2.81-2.81c.8-.78.8-2.07 0-2.86zM5.41 20L4 18.59l7.72-7.72 1.47 1.35L5.41 20z\"/>\n",
              "  </svg>\n",
              "      </button>\n",
              "      \n",
              "  <style>\n",
              "    .colab-df-container {\n",
              "      display:flex;\n",
              "      flex-wrap:wrap;\n",
              "      gap: 12px;\n",
              "    }\n",
              "\n",
              "    .colab-df-convert {\n",
              "      background-color: #E8F0FE;\n",
              "      border: none;\n",
              "      border-radius: 50%;\n",
              "      cursor: pointer;\n",
              "      display: none;\n",
              "      fill: #1967D2;\n",
              "      height: 32px;\n",
              "      padding: 0 0 0 0;\n",
              "      width: 32px;\n",
              "    }\n",
              "\n",
              "    .colab-df-convert:hover {\n",
              "      background-color: #E2EBFA;\n",
              "      box-shadow: 0px 1px 2px rgba(60, 64, 67, 0.3), 0px 1px 3px 1px rgba(60, 64, 67, 0.15);\n",
              "      fill: #174EA6;\n",
              "    }\n",
              "\n",
              "    [theme=dark] .colab-df-convert {\n",
              "      background-color: #3B4455;\n",
              "      fill: #D2E3FC;\n",
              "    }\n",
              "\n",
              "    [theme=dark] .colab-df-convert:hover {\n",
              "      background-color: #434B5C;\n",
              "      box-shadow: 0px 1px 3px 1px rgba(0, 0, 0, 0.15);\n",
              "      filter: drop-shadow(0px 1px 2px rgba(0, 0, 0, 0.3));\n",
              "      fill: #FFFFFF;\n",
              "    }\n",
              "  </style>\n",
              "\n",
              "      <script>\n",
              "        const buttonEl =\n",
              "          document.querySelector('#df-01c6bb24-0c19-4a35-93a1-7fc4f69af68d button.colab-df-convert');\n",
              "        buttonEl.style.display =\n",
              "          google.colab.kernel.accessAllowed ? 'block' : 'none';\n",
              "\n",
              "        async function convertToInteractive(key) {\n",
              "          const element = document.querySelector('#df-01c6bb24-0c19-4a35-93a1-7fc4f69af68d');\n",
              "          const dataTable =\n",
              "            await google.colab.kernel.invokeFunction('convertToInteractive',\n",
              "                                                     [key], {});\n",
              "          if (!dataTable) return;\n",
              "\n",
              "          const docLinkHtml = 'Like what you see? Visit the ' +\n",
              "            '<a target=\"_blank\" href=https://colab.research.google.com/notebooks/data_table.ipynb>data table notebook</a>'\n",
              "            + ' to learn more about interactive tables.';\n",
              "          element.innerHTML = '';\n",
              "          dataTable['output_type'] = 'display_data';\n",
              "          await google.colab.output.renderOutput(dataTable, element);\n",
              "          const docLink = document.createElement('div');\n",
              "          docLink.innerHTML = docLinkHtml;\n",
              "          element.appendChild(docLink);\n",
              "        }\n",
              "      </script>\n",
              "    </div>\n",
              "  </div>\n",
              "  "
            ]
          },
          "metadata": {},
          "execution_count": 12
        }
      ]
    },
    {
      "cell_type": "code",
      "source": [
        "data.info()"
      ],
      "metadata": {
        "colab": {
          "base_uri": "https://localhost:8080/"
        },
        "id": "F_oAy7jo_uP2",
        "outputId": "af759752-e342-4b83-a002-9728c0dd266f"
      },
      "execution_count": null,
      "outputs": [
        {
          "output_type": "stream",
          "name": "stdout",
          "text": [
            "<class 'pandas.core.frame.DataFrame'>\n",
            "RangeIndex: 583 entries, 0 to 582\n",
            "Data columns (total 11 columns):\n",
            " #   Column                      Non-Null Count  Dtype  \n",
            "---  ------                      --------------  -----  \n",
            " 0   Age                         583 non-null    int64  \n",
            " 1   Gender                      583 non-null    int64  \n",
            " 2   Total_Bilirubin             583 non-null    float64\n",
            " 3   Direct_Bilirubin            583 non-null    float64\n",
            " 4   Alkaline_Phosphotase        583 non-null    int64  \n",
            " 5   Alamine_Aminotransferase    583 non-null    int64  \n",
            " 6   Aspartate_Aminotransferase  583 non-null    int64  \n",
            " 7   Total_Protiens              583 non-null    float64\n",
            " 8   Albumin                     583 non-null    float64\n",
            " 9   Albumin_and_Globulin_Ratio  583 non-null    float64\n",
            " 10  Dataset                     583 non-null    int64  \n",
            "dtypes: float64(5), int64(6)\n",
            "memory usage: 50.2 KB\n"
          ]
        }
      ]
    },
    {
      "cell_type": "code",
      "source": [
        "sns.countplot(x='Dataset',data=data)"
      ],
      "metadata": {
        "colab": {
          "base_uri": "https://localhost:8080/",
          "height": 296
        },
        "id": "Q8BLvyfg7jYs",
        "outputId": "1ceab57c-fca9-4b83-a21e-49f3152a2f56"
      },
      "execution_count": null,
      "outputs": [
        {
          "output_type": "execute_result",
          "data": {
            "text/plain": [
              "<matplotlib.axes._subplots.AxesSubplot at 0x7fad0c000af0>"
            ]
          },
          "metadata": {},
          "execution_count": 14
        },
        {
          "output_type": "display_data",
          "data": {
            "text/plain": [
              "<Figure size 432x288 with 1 Axes>"
            ],
            "image/png": "[encoded data removed]"
          },
          "metadata": {
            "needs_background": "light"
          }
        }
      ]
    },
    {
      "cell_type": "code",
      "source": [
        "y = data['Dataset']\n",
        "X = data.drop('Dataset', axis=1)"
      ],
      "metadata": {
        "trusted": true,
        "id": "gP7O8-nMh0lj"
      },
      "execution_count": null,
      "outputs": []
    },
    {
      "cell_type": "code",
      "source": [],
      "metadata": {
        "trusted": true,
        "id": "iw_n-Pqhh0lj"
      },
      "execution_count": null,
      "outputs": []
    },
    {
      "cell_type": "code",
      "source": [
        "X_train, X_test, y_train, y_test = train_test_split(X, y, train_size=0.8,random_state=101)"
      ],
      "metadata": {
        "trusted": true,
        "id": "IK0rn4tJh0lj"
      },
      "execution_count": null,
      "outputs": []
    },
    {
      "cell_type": "code",
      "source": [
        "scaler = MinMaxScaler()\n",
        "\n",
        "scaler.fit(X_train)"
      ],
      "metadata": {
        "colab": {
          "base_uri": "https://localhost:8080/"
        },
        "id": "i0gAZqHrbzYz",
        "outputId": "6a56bd4d-dd6d-447e-979d-040a590e7a0c"
      },
      "execution_count": null,
      "outputs": [
        {
          "output_type": "execute_result",
          "data": {
            "text/plain": [
              "MinMaxScaler()"
            ]
          },
          "metadata": {},
          "execution_count": 17
        }
      ]
    },
    {
      "cell_type": "code",
      "source": [
        "X_train = scaler.transform(X_train)\n",
        "X_test = scaler.transform(X_test)"
      ],
      "metadata": {
        "id": "e2wgTYMEcA5g"
      },
      "execution_count": null,
      "outputs": []
    },
    {
      "cell_type": "markdown",
      "source": [
        "## Creating The Model\n"
      ],
      "metadata": {
        "id": "KTElBcxnh0lk"
      }
    },
    {
      "cell_type": "code",
      "source": [
        "X.shape"
      ],
      "metadata": {
        "trusted": true,
        "colab": {
          "base_uri": "https://localhost:8080/"
        },
        "id": "Cmbs4Ylhh0lk",
        "outputId": "8d378f63-7a38-49c1-e92d-6a825ea76d3c"
      },
      "execution_count": null,
      "outputs": [
        {
          "output_type": "execute_result",
          "data": {
            "text/plain": [
              "(583, 10)"
            ]
          },
          "metadata": {},
          "execution_count": 19
        }
      ]
    },
    {
      "cell_type": "code",
      "source": [
        "y.sum() / len(y)"
      ],
      "metadata": {
        "trusted": true,
        "colab": {
          "base_uri": "https://localhost:8080/"
        },
        "id": "PzKLY200h0lk",
        "outputId": "f6f30471-2df2-4ea0-e60d-92b4162d219d"
      },
      "execution_count": null,
      "outputs": [
        {
          "output_type": "execute_result",
          "data": {
            "text/plain": [
              "0.7135506003430532"
            ]
          },
          "metadata": {},
          "execution_count": 20
        }
      ]
    },
    {
      "cell_type": "code",
      "source": [
        "from tensorflow.keras.models import Sequential\n",
        "from tensorflow.keras.layers import Dense, Activation,Dropout"
      ],
      "metadata": {
        "id": "p73vCHqiC1WQ"
      },
      "execution_count": null,
      "outputs": []
    },
    {
      "cell_type": "code",
      "source": [
        "model=Sequential()\n",
        "\n",
        "model.add(Dense(units=10,activation='relu'))\n",
        "model.add(Dropout(0.5))\n",
        "\n",
        "model.add(Dense(units=5,activation='relu'))\n",
        "model.add(Dropout(0.5))\n",
        "\n",
        "model.add(Dense(units=1,activation='sigmoid'))\n",
        "\n",
        "\n",
        "model.compile(\n",
        "    optimizer='adam',\n",
        "    loss='binary_crossentropy')\n",
        "\n"
      ],
      "metadata": {
        "trusted": true,
        "id": "5Lv2OW5Vh0lk"
      },
      "execution_count": null,
      "outputs": []
    },
    {
      "cell_type": "code",
      "source": [
        "from tensorflow.keras.callbacks import EarlyStopping"
      ],
      "metadata": {
        "id": "_MqbWdhVXcFa"
      },
      "execution_count": null,
      "outputs": []
    },
    {
      "cell_type": "code",
      "source": [
        "early_stop = EarlyStopping(monitor='val_loss', mode='min', verbose=1, patience=25)"
      ],
      "metadata": {
        "id": "HzCVam77XexJ"
      },
      "execution_count": null,
      "outputs": []
    },
    {
      "cell_type": "markdown",
      "source": [
        "# Training\n"
      ],
      "metadata": {
        "id": "TsUeMbkUDT7e"
      }
    },
    {
      "cell_type": "code",
      "source": [
        "model.fit(\n",
        "    x=X_train,\n",
        "    y=y_train,\n",
        "    epochs=600,\n",
        "    validation_data=(X_test, y_test),\n",
        "    verbose=1,\n",
        "    callbacks=[early_stop]\n",
        ")"
      ],
      "metadata": {
        "colab": {
          "base_uri": "https://localhost:8080/"
        },
        "id": "OAFXs-eaPM0x",
        "outputId": "e9d3c894-3ae6-4808-a182-5f38ef053968"
      },
      "execution_count": null,
      "outputs": [
        {
          "output_type": "stream",
          "name": "stdout",
          "text": [
            "Epoch 1/600\n",
            "15/15 [==============================] - 1s 18ms/step - loss: 0.7267 - val_loss: 0.7008\n",
            "Epoch 2/600\n",
            "15/15 [==============================] - 0s 5ms/step - loss: 0.6969 - val_loss: 0.6858\n",
            "Epoch 3/600\n",
            "15/15 [==============================] - 0s 5ms/step - loss: 0.6891 - val_loss: 0.6725\n",
            "Epoch 4/600\n",
            "15/15 [==============================] - 0s 6ms/step - loss: 0.6723 - val_loss: 0.6635\n",
            "Epoch 5/600\n",
            "15/15 [==============================] - 0s 5ms/step - loss: 0.6598 - val_loss: 0.6562\n",
            "Epoch 6/600\n",
            "15/15 [==============================] - 0s 4ms/step - loss: 0.6598 - val_loss: 0.6508\n",
            "Epoch 7/600\n",
            "15/15 [==============================] - 0s 4ms/step - loss: 0.6589 - val_loss: 0.6464\n",
            "Epoch 8/600\n",
            "15/15 [==============================] - 0s 5ms/step - loss: 0.6553 - val_loss: 0.6432\n",
            "Epoch 9/600\n",
            "15/15 [==============================] - 0s 4ms/step - loss: 0.6613 - val_loss: 0.6408\n",
            "Epoch 10/600\n",
            "15/15 [==============================] - 0s 4ms/step - loss: 0.6546 - val_loss: 0.6380\n",
            "Epoch 11/600\n",
            "15/15 [==============================] - 0s 4ms/step - loss: 0.6511 - val_loss: 0.6356\n",
            "Epoch 12/600\n",
            "15/15 [==============================] - 0s 4ms/step - loss: 0.6404 - val_loss: 0.6330\n",
            "Epoch 13/600\n",
            "15/15 [==============================] - 0s 4ms/step - loss: 0.6400 - val_loss: 0.6302\n",
            "Epoch 14/600\n",
            "15/15 [==============================] - 0s 5ms/step - loss: 0.6376 - val_loss: 0.6277\n",
            "Epoch 15/600\n",
            "15/15 [==============================] - 0s 6ms/step - loss: 0.6349 - val_loss: 0.6252\n",
            "Epoch 16/600\n",
            "15/15 [==============================] - 0s 4ms/step - loss: 0.6263 - val_loss: 0.6228\n",
            "Epoch 17/600\n",
            "15/15 [==============================] - 0s 5ms/step - loss: 0.6319 - val_loss: 0.6195\n",
            "Epoch 18/600\n",
            "15/15 [==============================] - 0s 6ms/step - loss: 0.6329 - val_loss: 0.6175\n",
            "Epoch 19/600\n",
            "15/15 [==============================] - 0s 5ms/step - loss: 0.6322 - val_loss: 0.6162\n",
            "Epoch 20/600\n",
            "15/15 [==============================] - 0s 5ms/step - loss: 0.6237 - val_loss: 0.6153\n",
            "Epoch 21/600\n",
            "15/15 [==============================] - 0s 4ms/step - loss: 0.6139 - val_loss: 0.6125\n",
            "Epoch 22/600\n",
            "15/15 [==============================] - 0s 6ms/step - loss: 0.6191 - val_loss: 0.6107\n",
            "Epoch 23/600\n",
            "15/15 [==============================] - 0s 4ms/step - loss: 0.6204 - val_loss: 0.6089\n",
            "Epoch 24/600\n",
            "15/15 [==============================] - 0s 4ms/step - loss: 0.6021 - val_loss: 0.6060\n",
            "Epoch 25/600\n",
            "15/15 [==============================] - 0s 5ms/step - loss: 0.6179 - val_loss: 0.6054\n",
            "Epoch 26/600\n",
            "15/15 [==============================] - 0s 5ms/step - loss: 0.6169 - val_loss: 0.6044\n",
            "Epoch 27/600\n",
            "15/15 [==============================] - 0s 4ms/step - loss: 0.6177 - val_loss: 0.6029\n",
            "Epoch 28/600\n",
            "15/15 [==============================] - 0s 5ms/step - loss: 0.6065 - val_loss: 0.6003\n",
            "Epoch 29/600\n",
            "15/15 [==============================] - 0s 8ms/step - loss: 0.6004 - val_loss: 0.5986\n",
            "Epoch 30/600\n",
            "15/15 [==============================] - 0s 5ms/step - loss: 0.6126 - val_loss: 0.5979\n",
            "Epoch 31/600\n",
            "15/15 [==============================] - 0s 4ms/step - loss: 0.6087 - val_loss: 0.5956\n",
            "Epoch 32/600\n",
            "15/15 [==============================] - 0s 6ms/step - loss: 0.6033 - val_loss: 0.5940\n",
            "Epoch 33/600\n",
            "15/15 [==============================] - 0s 5ms/step - loss: 0.5978 - val_loss: 0.5915\n",
            "Epoch 34/600\n",
            "15/15 [==============================] - 0s 4ms/step - loss: 0.5883 - val_loss: 0.5898\n",
            "Epoch 35/600\n",
            "15/15 [==============================] - 0s 6ms/step - loss: 0.5888 - val_loss: 0.5882\n",
            "Epoch 36/600\n",
            "15/15 [==============================] - 0s 4ms/step - loss: 0.5943 - val_loss: 0.5859\n",
            "Epoch 37/600\n",
            "15/15 [==============================] - 0s 4ms/step - loss: 0.5927 - val_loss: 0.5836\n",
            "Epoch 38/600\n",
            "15/15 [==============================] - 0s 5ms/step - loss: 0.6161 - val_loss: 0.5835\n",
            "Epoch 39/600\n",
            "15/15 [==============================] - 0s 6ms/step - loss: 0.5933 - val_loss: 0.5842\n",
            "Epoch 40/600\n",
            "15/15 [==============================] - 0s 7ms/step - loss: 0.5882 - val_loss: 0.5843\n",
            "Epoch 41/600\n",
            "15/15 [==============================] - 0s 5ms/step - loss: 0.5993 - val_loss: 0.5840\n",
            "Epoch 42/600\n",
            "15/15 [==============================] - 0s 5ms/step - loss: 0.5976 - val_loss: 0.5841\n",
            "Epoch 43/600\n",
            "15/15 [==============================] - 0s 5ms/step - loss: 0.5914 - val_loss: 0.5817\n",
            "Epoch 44/600\n",
            "15/15 [==============================] - 0s 4ms/step - loss: 0.5951 - val_loss: 0.5805\n",
            "Epoch 45/600\n",
            "15/15 [==============================] - 0s 5ms/step - loss: 0.5950 - val_loss: 0.5804\n",
            "Epoch 46/600\n",
            "15/15 [==============================] - 0s 5ms/step - loss: 0.5885 - val_loss: 0.5796\n",
            "Epoch 47/600\n",
            "15/15 [==============================] - 0s 4ms/step - loss: 0.5867 - val_loss: 0.5776\n",
            "Epoch 48/600\n",
            "15/15 [==============================] - 0s 5ms/step - loss: 0.5863 - val_loss: 0.5779\n",
            "Epoch 49/600\n",
            "15/15 [==============================] - 0s 4ms/step - loss: 0.5968 - val_loss: 0.5783\n",
            "Epoch 50/600\n",
            "15/15 [==============================] - 0s 6ms/step - loss: 0.5848 - val_loss: 0.5766\n",
            "Epoch 51/600\n",
            "15/15 [==============================] - 0s 6ms/step - loss: 0.5979 - val_loss: 0.5767\n",
            "Epoch 52/600\n",
            "15/15 [==============================] - 0s 4ms/step - loss: 0.6047 - val_loss: 0.5775\n",
            "Epoch 53/600\n",
            "15/15 [==============================] - 0s 6ms/step - loss: 0.5792 - val_loss: 0.5749\n",
            "Epoch 54/600\n",
            "15/15 [==============================] - 0s 6ms/step - loss: 0.5915 - val_loss: 0.5738\n",
            "Epoch 55/600\n",
            "15/15 [==============================] - 0s 4ms/step - loss: 0.5887 - val_loss: 0.5737\n",
            "Epoch 56/600\n",
            "15/15 [==============================] - 0s 4ms/step - loss: 0.5868 - val_loss: 0.5743\n",
            "Epoch 57/600\n",
            "15/15 [==============================] - 0s 4ms/step - loss: 0.5726 - val_loss: 0.5732\n",
            "Epoch 58/600\n",
            "15/15 [==============================] - 0s 5ms/step - loss: 0.5811 - val_loss: 0.5720\n",
            "Epoch 59/600\n",
            "15/15 [==============================] - 0s 5ms/step - loss: 0.5836 - val_loss: 0.5710\n",
            "Epoch 60/600\n",
            "15/15 [==============================] - 0s 4ms/step - loss: 0.5847 - val_loss: 0.5706\n",
            "Epoch 61/600\n",
            "15/15 [==============================] - 0s 5ms/step - loss: 0.5764 - val_loss: 0.5695\n",
            "Epoch 62/600\n",
            "15/15 [==============================] - 0s 6ms/step - loss: 0.5824 - val_loss: 0.5695\n",
            "Epoch 63/600\n",
            "15/15 [==============================] - 0s 4ms/step - loss: 0.5774 - val_loss: 0.5690\n",
            "Epoch 64/600\n",
            "15/15 [==============================] - 0s 4ms/step - loss: 0.5770 - val_loss: 0.5686\n",
            "Epoch 65/600\n",
            "15/15 [==============================] - 0s 4ms/step - loss: 0.5794 - val_loss: 0.5691\n",
            "Epoch 66/600\n",
            "15/15 [==============================] - 0s 6ms/step - loss: 0.5791 - val_loss: 0.5688\n",
            "Epoch 67/600\n",
            "15/15 [==============================] - 0s 6ms/step - loss: 0.5722 - val_loss: 0.5690\n",
            "Epoch 68/600\n",
            "15/15 [==============================] - 0s 6ms/step - loss: 0.5760 - val_loss: 0.5675\n",
            "Epoch 69/600\n",
            "15/15 [==============================] - 0s 4ms/step - loss: 0.5715 - val_loss: 0.5653\n",
            "Epoch 70/600\n",
            "15/15 [==============================] - 0s 5ms/step - loss: 0.5743 - val_loss: 0.5645\n",
            "Epoch 71/600\n",
            "15/15 [==============================] - 0s 4ms/step - loss: 0.5695 - val_loss: 0.5640\n",
            "Epoch 72/600\n",
            "15/15 [==============================] - 0s 5ms/step - loss: 0.5651 - val_loss: 0.5628\n",
            "Epoch 73/600\n",
            "15/15 [==============================] - 0s 4ms/step - loss: 0.5775 - val_loss: 0.5626\n",
            "Epoch 74/600\n",
            "15/15 [==============================] - 0s 4ms/step - loss: 0.5745 - val_loss: 0.5631\n",
            "Epoch 75/600\n",
            "15/15 [==============================] - 0s 5ms/step - loss: 0.5754 - val_loss: 0.5623\n",
            "Epoch 76/600\n",
            "15/15 [==============================] - 0s 5ms/step - loss: 0.5712 - val_loss: 0.5619\n",
            "Epoch 77/600\n",
            "15/15 [==============================] - 0s 4ms/step - loss: 0.5743 - val_loss: 0.5615\n",
            "Epoch 78/600\n",
            "15/15 [==============================] - 0s 5ms/step - loss: 0.5646 - val_loss: 0.5612\n",
            "Epoch 79/600\n",
            "15/15 [==============================] - 0s 6ms/step - loss: 0.5680 - val_loss: 0.5605\n",
            "Epoch 80/600\n",
            "15/15 [==============================] - 0s 5ms/step - loss: 0.5591 - val_loss: 0.5600\n",
            "Epoch 81/600\n",
            "15/15 [==============================] - 0s 6ms/step - loss: 0.5663 - val_loss: 0.5591\n",
            "Epoch 82/600\n",
            "15/15 [==============================] - 0s 4ms/step - loss: 0.5727 - val_loss: 0.5597\n",
            "Epoch 83/600\n",
            "15/15 [==============================] - 0s 5ms/step - loss: 0.5755 - val_loss: 0.5599\n",
            "Epoch 84/600\n",
            "15/15 [==============================] - 0s 4ms/step - loss: 0.5686 - val_loss: 0.5596\n",
            "Epoch 85/600\n",
            "15/15 [==============================] - 0s 4ms/step - loss: 0.5515 - val_loss: 0.5579\n",
            "Epoch 86/600\n",
            "15/15 [==============================] - 0s 4ms/step - loss: 0.5701 - val_loss: 0.5582\n",
            "Epoch 87/600\n",
            "15/15 [==============================] - 0s 4ms/step - loss: 0.5625 - val_loss: 0.5590\n",
            "Epoch 88/600\n",
            "15/15 [==============================] - 0s 5ms/step - loss: 0.5500 - val_loss: 0.5575\n",
            "Epoch 89/600\n",
            "15/15 [==============================] - 0s 4ms/step - loss: 0.5681 - val_loss: 0.5579\n",
            "Epoch 90/600\n",
            "15/15 [==============================] - 0s 5ms/step - loss: 0.5737 - val_loss: 0.5580\n",
            "Epoch 91/600\n",
            "15/15 [==============================] - 0s 5ms/step - loss: 0.5592 - val_loss: 0.5579\n",
            "Epoch 92/600\n",
            "15/15 [==============================] - 0s 5ms/step - loss: 0.5676 - val_loss: 0.5575\n",
            "Epoch 93/600\n",
            "15/15 [==============================] - 0s 7ms/step - loss: 0.5688 - val_loss: 0.5580\n",
            "Epoch 94/600\n",
            "15/15 [==============================] - 0s 7ms/step - loss: 0.5600 - val_loss: 0.5570\n",
            "Epoch 95/600\n",
            "15/15 [==============================] - 0s 7ms/step - loss: 0.5604 - val_loss: 0.5558\n",
            "Epoch 96/600\n",
            "15/15 [==============================] - 0s 6ms/step - loss: 0.5545 - val_loss: 0.5551\n",
            "Epoch 97/600\n",
            "15/15 [==============================] - 0s 8ms/step - loss: 0.5647 - val_loss: 0.5544\n",
            "Epoch 98/600\n",
            "15/15 [==============================] - 0s 8ms/step - loss: 0.5636 - val_loss: 0.5543\n",
            "Epoch 99/600\n",
            "15/15 [==============================] - 0s 8ms/step - loss: 0.5522 - val_loss: 0.5541\n",
            "Epoch 100/600\n",
            "15/15 [==============================] - 0s 7ms/step - loss: 0.5663 - val_loss: 0.5539\n",
            "Epoch 101/600\n",
            "15/15 [==============================] - 0s 7ms/step - loss: 0.5657 - val_loss: 0.5539\n",
            "Epoch 102/600\n",
            "15/15 [==============================] - 0s 8ms/step - loss: 0.5501 - val_loss: 0.5531\n",
            "Epoch 103/600\n",
            "15/15 [==============================] - 0s 6ms/step - loss: 0.5479 - val_loss: 0.5521\n",
            "Epoch 104/600\n",
            "15/15 [==============================] - 0s 8ms/step - loss: 0.5573 - val_loss: 0.5533\n",
            "Epoch 105/600\n",
            "15/15 [==============================] - 0s 6ms/step - loss: 0.5572 - val_loss: 0.5526\n",
            "Epoch 106/600\n",
            "15/15 [==============================] - 0s 7ms/step - loss: 0.5531 - val_loss: 0.5530\n",
            "Epoch 107/600\n",
            "15/15 [==============================] - 0s 6ms/step - loss: 0.5391 - val_loss: 0.5520\n",
            "Epoch 108/600\n",
            "15/15 [==============================] - 0s 8ms/step - loss: 0.5573 - val_loss: 0.5517\n",
            "Epoch 109/600\n",
            "15/15 [==============================] - 0s 7ms/step - loss: 0.5582 - val_loss: 0.5518\n",
            "Epoch 110/600\n",
            "15/15 [==============================] - 0s 8ms/step - loss: 0.5393 - val_loss: 0.5514\n",
            "Epoch 111/600\n",
            "15/15 [==============================] - 0s 7ms/step - loss: 0.5465 - val_loss: 0.5495\n",
            "Epoch 112/600\n",
            "15/15 [==============================] - 0s 7ms/step - loss: 0.5388 - val_loss: 0.5488\n",
            "Epoch 113/600\n",
            "15/15 [==============================] - 0s 6ms/step - loss: 0.5321 - val_loss: 0.5480\n",
            "Epoch 114/600\n",
            "15/15 [==============================] - 0s 8ms/step - loss: 0.5454 - val_loss: 0.5484\n",
            "Epoch 115/600\n",
            "15/15 [==============================] - 0s 6ms/step - loss: 0.5421 - val_loss: 0.5488\n",
            "Epoch 116/600\n",
            "15/15 [==============================] - 0s 8ms/step - loss: 0.5405 - val_loss: 0.5482\n",
            "Epoch 117/600\n",
            "15/15 [==============================] - 0s 8ms/step - loss: 0.5387 - val_loss: 0.5469\n",
            "Epoch 118/600\n",
            "15/15 [==============================] - 0s 7ms/step - loss: 0.5466 - val_loss: 0.5469\n",
            "Epoch 119/600\n",
            "15/15 [==============================] - 0s 6ms/step - loss: 0.5456 - val_loss: 0.5480\n",
            "Epoch 120/600\n",
            "15/15 [==============================] - 0s 6ms/step - loss: 0.5453 - val_loss: 0.5483\n",
            "Epoch 121/600\n",
            "15/15 [==============================] - 0s 7ms/step - loss: 0.5386 - val_loss: 0.5496\n",
            "Epoch 122/600\n",
            "15/15 [==============================] - 0s 6ms/step - loss: 0.5329 - val_loss: 0.5494\n",
            "Epoch 123/600\n",
            "15/15 [==============================] - 0s 7ms/step - loss: 0.5395 - val_loss: 0.5493\n",
            "Epoch 124/600\n",
            "15/15 [==============================] - 0s 8ms/step - loss: 0.5445 - val_loss: 0.5482\n",
            "Epoch 125/600\n",
            "15/15 [==============================] - 0s 7ms/step - loss: 0.5284 - val_loss: 0.5475\n",
            "Epoch 126/600\n",
            "15/15 [==============================] - 0s 8ms/step - loss: 0.5439 - val_loss: 0.5466\n",
            "Epoch 127/600\n",
            "15/15 [==============================] - 0s 8ms/step - loss: 0.5526 - val_loss: 0.5460\n",
            "Epoch 128/600\n",
            "15/15 [==============================] - 0s 7ms/step - loss: 0.5402 - val_loss: 0.5467\n",
            "Epoch 129/600\n",
            "15/15 [==============================] - 0s 7ms/step - loss: 0.5340 - val_loss: 0.5459\n",
            "Epoch 130/600\n",
            "15/15 [==============================] - 0s 8ms/step - loss: 0.5464 - val_loss: 0.5451\n",
            "Epoch 131/600\n",
            "15/15 [==============================] - 0s 7ms/step - loss: 0.5486 - val_loss: 0.5444\n",
            "Epoch 132/600\n",
            "15/15 [==============================] - 0s 5ms/step - loss: 0.5383 - val_loss: 0.5446\n",
            "Epoch 133/600\n",
            "15/15 [==============================] - 0s 4ms/step - loss: 0.5397 - val_loss: 0.5447\n",
            "Epoch 134/600\n",
            "15/15 [==============================] - 0s 5ms/step - loss: 0.5412 - val_loss: 0.5448\n",
            "Epoch 135/600\n",
            "15/15 [==============================] - 0s 6ms/step - loss: 0.5272 - val_loss: 0.5445\n",
            "Epoch 136/600\n",
            "15/15 [==============================] - 0s 5ms/step - loss: 0.5233 - val_loss: 0.5431\n",
            "Epoch 137/600\n",
            "15/15 [==============================] - 0s 4ms/step - loss: 0.5319 - val_loss: 0.5419\n",
            "Epoch 138/600\n",
            "15/15 [==============================] - 0s 4ms/step - loss: 0.5593 - val_loss: 0.5441\n",
            "Epoch 139/600\n",
            "15/15 [==============================] - 0s 4ms/step - loss: 0.5446 - val_loss: 0.5447\n",
            "Epoch 140/600\n",
            "15/15 [==============================] - 0s 5ms/step - loss: 0.5576 - val_loss: 0.5446\n",
            "Epoch 141/600\n",
            "15/15 [==============================] - 0s 5ms/step - loss: 0.5239 - val_loss: 0.5442\n",
            "Epoch 142/600\n",
            "15/15 [==============================] - 0s 6ms/step - loss: 0.5287 - val_loss: 0.5441\n",
            "Epoch 143/600\n",
            "15/15 [==============================] - 0s 5ms/step - loss: 0.5401 - val_loss: 0.5441\n",
            "Epoch 144/600\n",
            "15/15 [==============================] - 0s 5ms/step - loss: 0.5396 - val_loss: 0.5434\n",
            "Epoch 145/600\n",
            "15/15 [==============================] - 0s 4ms/step - loss: 0.5508 - val_loss: 0.5436\n",
            "Epoch 146/600\n",
            "15/15 [==============================] - 0s 6ms/step - loss: 0.5671 - val_loss: 0.5450\n",
            "Epoch 147/600\n",
            "15/15 [==============================] - 0s 4ms/step - loss: 0.5392 - val_loss: 0.5446\n",
            "Epoch 148/600\n",
            "15/15 [==============================] - 0s 4ms/step - loss: 0.5337 - val_loss: 0.5439\n",
            "Epoch 149/600\n",
            "15/15 [==============================] - 0s 4ms/step - loss: 0.5385 - val_loss: 0.5432\n",
            "Epoch 150/600\n",
            "15/15 [==============================] - 0s 6ms/step - loss: 0.5403 - val_loss: 0.5423\n",
            "Epoch 151/600\n",
            "15/15 [==============================] - 0s 6ms/step - loss: 0.5389 - val_loss: 0.5415\n",
            "Epoch 152/600\n",
            "15/15 [==============================] - 0s 4ms/step - loss: 0.5360 - val_loss: 0.5418\n",
            "Epoch 153/600\n",
            "15/15 [==============================] - 0s 4ms/step - loss: 0.5499 - val_loss: 0.5439\n",
            "Epoch 154/600\n",
            "15/15 [==============================] - 0s 4ms/step - loss: 0.5508 - val_loss: 0.5443\n",
            "Epoch 155/600\n",
            "15/15 [==============================] - 0s 6ms/step - loss: 0.5365 - val_loss: 0.5436\n",
            "Epoch 156/600\n",
            "15/15 [==============================] - 0s 4ms/step - loss: 0.5422 - val_loss: 0.5429\n",
            "Epoch 157/600\n",
            "15/15 [==============================] - 0s 5ms/step - loss: 0.5318 - val_loss: 0.5422\n",
            "Epoch 158/600\n",
            "15/15 [==============================] - 0s 6ms/step - loss: 0.5274 - val_loss: 0.5416\n",
            "Epoch 159/600\n",
            "15/15 [==============================] - 0s 6ms/step - loss: 0.5390 - val_loss: 0.5419\n",
            "Epoch 160/600\n",
            "15/15 [==============================] - 0s 5ms/step - loss: 0.5283 - val_loss: 0.5432\n",
            "Epoch 161/600\n",
            "15/15 [==============================] - 0s 5ms/step - loss: 0.5441 - val_loss: 0.5425\n",
            "Epoch 162/600\n",
            "15/15 [==============================] - 0s 5ms/step - loss: 0.5441 - val_loss: 0.5439\n",
            "Epoch 163/600\n",
            "15/15 [==============================] - 0s 6ms/step - loss: 0.5389 - val_loss: 0.5437\n",
            "Epoch 164/600\n",
            "15/15 [==============================] - 0s 6ms/step - loss: 0.5471 - val_loss: 0.5430\n",
            "Epoch 165/600\n",
            "15/15 [==============================] - 0s 4ms/step - loss: 0.5425 - val_loss: 0.5422\n",
            "Epoch 166/600\n",
            "15/15 [==============================] - 0s 5ms/step - loss: 0.5362 - val_loss: 0.5418\n",
            "Epoch 167/600\n",
            "15/15 [==============================] - 0s 6ms/step - loss: 0.5343 - val_loss: 0.5413\n",
            "Epoch 168/600\n",
            "15/15 [==============================] - 0s 5ms/step - loss: 0.5279 - val_loss: 0.5411\n",
            "Epoch 169/600\n",
            "15/15 [==============================] - 0s 5ms/step - loss: 0.5452 - val_loss: 0.5414\n",
            "Epoch 170/600\n",
            "15/15 [==============================] - 0s 5ms/step - loss: 0.5375 - val_loss: 0.5414\n",
            "Epoch 171/600\n",
            "15/15 [==============================] - 0s 4ms/step - loss: 0.5362 - val_loss: 0.5404\n",
            "Epoch 172/600\n",
            "15/15 [==============================] - 0s 5ms/step - loss: 0.5361 - val_loss: 0.5408\n",
            "Epoch 173/600\n",
            "15/15 [==============================] - 0s 4ms/step - loss: 0.5333 - val_loss: 0.5414\n",
            "Epoch 174/600\n",
            "15/15 [==============================] - 0s 5ms/step - loss: 0.5536 - val_loss: 0.5411\n",
            "Epoch 175/600\n",
            "15/15 [==============================] - 0s 4ms/step - loss: 0.5279 - val_loss: 0.5406\n",
            "Epoch 176/600\n",
            "15/15 [==============================] - 0s 5ms/step - loss: 0.5414 - val_loss: 0.5407\n",
            "Epoch 177/600\n",
            "15/15 [==============================] - 0s 6ms/step - loss: 0.5233 - val_loss: 0.5401\n",
            "Epoch 178/600\n",
            "15/15 [==============================] - 0s 5ms/step - loss: 0.5485 - val_loss: 0.5397\n",
            "Epoch 179/600\n",
            "15/15 [==============================] - 0s 5ms/step - loss: 0.5382 - val_loss: 0.5408\n",
            "Epoch 180/600\n",
            "15/15 [==============================] - 0s 5ms/step - loss: 0.5281 - val_loss: 0.5416\n",
            "Epoch 181/600\n",
            "15/15 [==============================] - 0s 4ms/step - loss: 0.5447 - val_loss: 0.5437\n",
            "Epoch 182/600\n",
            "15/15 [==============================] - 0s 4ms/step - loss: 0.5349 - val_loss: 0.5424\n",
            "Epoch 183/600\n",
            "15/15 [==============================] - 0s 6ms/step - loss: 0.5394 - val_loss: 0.5429\n",
            "Epoch 184/600\n",
            "15/15 [==============================] - 0s 4ms/step - loss: 0.5326 - val_loss: 0.5423\n",
            "Epoch 185/600\n",
            "15/15 [==============================] - 0s 4ms/step - loss: 0.5474 - val_loss: 0.5420\n",
            "Epoch 186/600\n",
            "15/15 [==============================] - 0s 5ms/step - loss: 0.5202 - val_loss: 0.5405\n",
            "Epoch 187/600\n",
            "15/15 [==============================] - 0s 4ms/step - loss: 0.5369 - val_loss: 0.5411\n",
            "Epoch 188/600\n",
            "15/15 [==============================] - 0s 4ms/step - loss: 0.5346 - val_loss: 0.5408\n",
            "Epoch 189/600\n",
            "15/15 [==============================] - 0s 4ms/step - loss: 0.5383 - val_loss: 0.5401\n",
            "Epoch 190/600\n",
            "15/15 [==============================] - 0s 4ms/step - loss: 0.5404 - val_loss: 0.5399\n",
            "Epoch 191/600\n",
            "15/15 [==============================] - 0s 4ms/step - loss: 0.5373 - val_loss: 0.5390\n",
            "Epoch 192/600\n",
            "15/15 [==============================] - 0s 5ms/step - loss: 0.5237 - val_loss: 0.5379\n",
            "Epoch 193/600\n",
            "15/15 [==============================] - 0s 5ms/step - loss: 0.5320 - val_loss: 0.5396\n",
            "Epoch 194/600\n",
            "15/15 [==============================] - 0s 4ms/step - loss: 0.5303 - val_loss: 0.5399\n",
            "Epoch 195/600\n",
            "15/15 [==============================] - 0s 4ms/step - loss: 0.5284 - val_loss: 0.5400\n",
            "Epoch 196/600\n",
            "15/15 [==============================] - 0s 5ms/step - loss: 0.5439 - val_loss: 0.5400\n",
            "Epoch 197/600\n",
            "15/15 [==============================] - 0s 4ms/step - loss: 0.5307 - val_loss: 0.5398\n",
            "Epoch 198/600\n",
            "15/15 [==============================] - 0s 4ms/step - loss: 0.5180 - val_loss: 0.5396\n",
            "Epoch 199/600\n",
            "15/15 [==============================] - 0s 4ms/step - loss: 0.5459 - val_loss: 0.5391\n",
            "Epoch 200/600\n",
            "15/15 [==============================] - 0s 5ms/step - loss: 0.5447 - val_loss: 0.5398\n",
            "Epoch 201/600\n",
            "15/15 [==============================] - 0s 6ms/step - loss: 0.5363 - val_loss: 0.5400\n",
            "Epoch 202/600\n",
            "15/15 [==============================] - 0s 5ms/step - loss: 0.5314 - val_loss: 0.5390\n",
            "Epoch 203/600\n",
            "15/15 [==============================] - 0s 4ms/step - loss: 0.5203 - val_loss: 0.5397\n",
            "Epoch 204/600\n",
            "15/15 [==============================] - 0s 4ms/step - loss: 0.5422 - val_loss: 0.5404\n",
            "Epoch 205/600\n",
            "15/15 [==============================] - 0s 5ms/step - loss: 0.5311 - val_loss: 0.5404\n",
            "Epoch 206/600\n",
            "15/15 [==============================] - 0s 5ms/step - loss: 0.5138 - val_loss: 0.5402\n",
            "Epoch 207/600\n",
            "15/15 [==============================] - 0s 5ms/step - loss: 0.5111 - val_loss: 0.5370\n",
            "Epoch 208/600\n",
            "15/15 [==============================] - 0s 4ms/step - loss: 0.5367 - val_loss: 0.5391\n",
            "Epoch 209/600\n",
            "15/15 [==============================] - 0s 4ms/step - loss: 0.5154 - val_loss: 0.5400\n",
            "Epoch 210/600\n",
            "15/15 [==============================] - 0s 6ms/step - loss: 0.5321 - val_loss: 0.5406\n",
            "Epoch 211/600\n",
            "15/15 [==============================] - 0s 4ms/step - loss: 0.5375 - val_loss: 0.5428\n",
            "Epoch 212/600\n",
            "15/15 [==============================] - 0s 4ms/step - loss: 0.5318 - val_loss: 0.5438\n",
            "Epoch 213/600\n",
            "15/15 [==============================] - 0s 4ms/step - loss: 0.5314 - val_loss: 0.5435\n",
            "Epoch 214/600\n",
            "15/15 [==============================] - 0s 4ms/step - loss: 0.5228 - val_loss: 0.5425\n",
            "Epoch 215/600\n",
            "15/15 [==============================] - 0s 5ms/step - loss: 0.5317 - val_loss: 0.5432\n",
            "Epoch 216/600\n",
            "15/15 [==============================] - 0s 5ms/step - loss: 0.5150 - val_loss: 0.5419\n",
            "Epoch 217/600\n",
            "15/15 [==============================] - 0s 6ms/step - loss: 0.5262 - val_loss: 0.5402\n",
            "Epoch 218/600\n",
            "15/15 [==============================] - 0s 5ms/step - loss: 0.5200 - val_loss: 0.5393\n",
            "Epoch 219/600\n",
            "15/15 [==============================] - 0s 5ms/step - loss: 0.5286 - val_loss: 0.5392\n",
            "Epoch 220/600\n",
            "15/15 [==============================] - 0s 5ms/step - loss: 0.5232 - val_loss: 0.5401\n",
            "Epoch 221/600\n",
            "15/15 [==============================] - 0s 5ms/step - loss: 0.5467 - val_loss: 0.5414\n",
            "Epoch 222/600\n",
            "15/15 [==============================] - 0s 4ms/step - loss: 0.5344 - val_loss: 0.5412\n",
            "Epoch 223/600\n",
            "15/15 [==============================] - 0s 4ms/step - loss: 0.5252 - val_loss: 0.5421\n",
            "Epoch 224/600\n",
            "15/15 [==============================] - 0s 4ms/step - loss: 0.5159 - val_loss: 0.5418\n",
            "Epoch 225/600\n",
            "15/15 [==============================] - 0s 5ms/step - loss: 0.5255 - val_loss: 0.5426\n",
            "Epoch 226/600\n",
            "15/15 [==============================] - 0s 4ms/step - loss: 0.5249 - val_loss: 0.5426\n",
            "Epoch 227/600\n",
            "15/15 [==============================] - 0s 4ms/step - loss: 0.5250 - val_loss: 0.5425\n",
            "Epoch 228/600\n",
            "15/15 [==============================] - 0s 5ms/step - loss: 0.5190 - val_loss: 0.5425\n",
            "Epoch 229/600\n",
            "15/15 [==============================] - 0s 5ms/step - loss: 0.5462 - val_loss: 0.5425\n",
            "Epoch 230/600\n",
            "15/15 [==============================] - 0s 5ms/step - loss: 0.5108 - val_loss: 0.5418\n",
            "Epoch 231/600\n",
            "15/15 [==============================] - 0s 4ms/step - loss: 0.5188 - val_loss: 0.5414\n",
            "Epoch 232/600\n",
            "15/15 [==============================] - 0s 6ms/step - loss: 0.5317 - val_loss: 0.5427\n",
            "Epoch 232: early stopping\n"
          ]
        },
        {
          "output_type": "execute_result",
          "data": {
            "text/plain": [
              "<keras.callbacks.History at 0x7fad084316a0>"
            ]
          },
          "metadata": {},
          "execution_count": 25
        }
      ]
    },
    {
      "cell_type": "markdown",
      "source": [
        "# Results"
      ],
      "metadata": {
        "id": "ifId7ClVh0ll"
      }
    },
    {
      "cell_type": "code",
      "source": [
        "model_loss = pd.DataFrame(model.history.history)"
      ],
      "metadata": {
        "id": "wCr0lvoT9vW6"
      },
      "execution_count": null,
      "outputs": []
    },
    {
      "cell_type": "code",
      "source": [
        "model_loss.plot()"
      ],
      "metadata": {
        "trusted": true,
        "colab": {
          "base_uri": "https://localhost:8080/",
          "height": 282
        },
        "id": "NnxqSjwEh0ll",
        "outputId": "35762135-01a0-4b2d-9c41-d101b956349b"
      },
      "execution_count": null,
      "outputs": [
        {
          "output_type": "execute_result",
          "data": {
            "text/plain": [
              "<matplotlib.axes._subplots.AxesSubplot at 0x7fad002bc160>"
            ]
          },
          "metadata": {},
          "execution_count": 27
        },
        {
          "output_type": "display_data",
          "data": {
            "text/plain": [
              "<Figure size 432x288 with 1 Axes>"
            ],
            "image/png": "[encoded data removed]"
          },
          "metadata": {
            "needs_background": "light"
          }
        }
      ]
    },
    {
      "cell_type": "code",
      "source": [
        "pred=(model.predict(X_test) > 0.5).astype(\"int64\")"
      ],
      "metadata": {
        "colab": {
          "base_uri": "https://localhost:8080/"
        },
        "id": "MtTLrjRIMVpJ",
        "outputId": "39785d14-a026-44a0-a440-f5e12fcaaf26"
      },
      "execution_count": null,
      "outputs": [
        {
          "output_type": "stream",
          "name": "stdout",
          "text": [
            "4/4 [==============================] - 0s 3ms/step\n"
          ]
        }
      ]
    },
    {
      "cell_type": "code",
      "source": [
        "from sklearn.metrics import classification_report"
      ],
      "metadata": {
        "id": "Sgd1L-ZvMK5N"
      },
      "execution_count": null,
      "outputs": []
    },
    {
      "cell_type": "code",
      "source": [
        "print(classification_report(y_test,pred))"
      ],
      "metadata": {
        "colab": {
          "base_uri": "https://localhost:8080/"
        },
        "id": "S2tlgEGHMgnP",
        "outputId": "792fd9ba-3f11-4300-817b-8ee35752aa63"
      },
      "execution_count": null,
      "outputs": [
        {
          "output_type": "stream",
          "name": "stdout",
          "text": [
            "              precision    recall  f1-score   support\n",
            "\n",
            "           0       0.00      0.00      0.00        33\n",
            "           1       0.72      1.00      0.84        84\n",
            "\n",
            "    accuracy                           0.72       117\n",
            "   macro avg       0.36      0.50      0.42       117\n",
            "weighted avg       0.52      0.72      0.60       117\n",
            "\n"
          ]
        },
        {
          "output_type": "stream",
          "name": "stderr",
          "text": [
            "/usr/local/lib/python3.8/dist-packages/sklearn/metrics/_classification.py:1318: UndefinedMetricWarning: Precision and F-score are ill-defined and being set to 0.0 in labels with no predicted samples. Use `zero_division` parameter to control this behavior.\n",
            "  _warn_prf(average, modifier, msg_start, len(result))\n",
            "/usr/local/lib/python3.8/dist-packages/sklearn/metrics/_classification.py:1318: UndefinedMetricWarning: Precision and F-score are ill-defined and being set to 0.0 in labels with no predicted samples. Use `zero_division` parameter to control this behavior.\n",
            "  _warn_prf(average, modifier, msg_start, len(result))\n",
            "/usr/local/lib/python3.8/dist-packages/sklearn/metrics/_classification.py:1318: UndefinedMetricWarning: Precision and F-score are ill-defined and being set to 0.0 in labels with no predicted samples. Use `zero_division` parameter to control this behavior.\n",
            "  _warn_prf(average, modifier, msg_start, len(result))\n"
          ]
        }
      ]
    },
    {
      "cell_type": "markdown",
      "source": [
        "# Predicting New Data"
      ],
      "metadata": {
        "id": "Yrb4j9pwV_0a"
      }
    },
    {
      "cell_type": "code",
      "source": [
        "new_data=np.array([[60,1,0.5,0.1,500,20,34,5.9,1.6,0.37]])\n",
        "new_data = scaler.transform(new_data)"
      ],
      "metadata": {
        "colab": {
          "base_uri": "https://localhost:8080/"
        },
        "id": "kSgd5gUKGREL",
        "outputId": "56c1e1e7-d5e9-465a-b801-37120d1b2261"
      },
      "execution_count": null,
      "outputs": [
        {
          "output_type": "stream",
          "name": "stderr",
          "text": [
            "/usr/local/lib/python3.8/dist-packages/sklearn/base.py:450: UserWarning: X does not have valid feature names, but MinMaxScaler was fitted with feature names\n",
            "  warnings.warn(\n"
          ]
        }
      ]
    },
    {
      "cell_type": "code",
      "source": [
        "predictions = (model.predict(new_data) > 0.5).astype(\"int32\")\n",
        "predictions"
      ],
      "metadata": {
        "colab": {
          "base_uri": "https://localhost:8080/"
        },
        "id": "woS1BUMkBh13",
        "outputId": "cae3abff-a522-4e9b-92c2-9416551956be"
      },
      "execution_count": null,
      "outputs": [
        {
          "output_type": "stream",
          "name": "stdout",
          "text": [
            "1/1 [==============================] - 0s 21ms/step\n"
          ]
        },
        {
          "output_type": "execute_result",
          "data": {
            "text/plain": [
              "array([[1]], dtype=int32)"
            ]
          },
          "metadata": {},
          "execution_count": 32
        }
      ]
    },
    {
      "cell_type": "code",
      "source": [
        "if (predictions[0]==0):\n",
        "  print('The person does not have Liver Failure')\n",
        "\n",
        "else:\n",
        "  print('The person has Liver Failure')"
      ],
      "metadata": {
        "colab": {
          "base_uri": "https://localhost:8080/"
        },
        "id": "ifOLV81CILhP",
        "outputId": "ae7ac386-6597-49c1-acfe-e3092c6f75e5"
      },
      "execution_count": null,
      "outputs": [
        {
          "output_type": "stream",
          "name": "stdout",
          "text": [
            "The person has Liver Failure\n"
          ]
        }
      ]
    }
  ]
}